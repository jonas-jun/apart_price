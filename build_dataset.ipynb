{
 "cells": [
  {
   "cell_type": "markdown",
   "metadata": {},
   "source": [
    "# build Gu-Dong map\n",
    "- 기존 match 파일에 동이 다 담겨있지 않아 https://www.seoul.go.kr/seoul/autonomy_sub.do 에서 새롭게 맵핑 파일 생성\n",
    "- 크롤링"
   ]
  },
  {
   "cell_type": "code",
   "execution_count": 383,
   "metadata": {},
   "outputs": [],
   "source": [
    "import requests\n",
    "from bs4 import BeautifulSoup\n",
    "import re\n",
    "import json"
   ]
  },
  {
   "cell_type": "code",
   "execution_count": 384,
   "metadata": {},
   "outputs": [],
   "source": [
    "url = \"https://www.seoul.go.kr/seoul/autonomy_sub.do\"\n",
    "response = requests.get(url)\n",
    "soup = BeautifulSoup(response.content, \"html.parser\")"
   ]
  },
  {
   "cell_type": "code",
   "execution_count": 385,
   "metadata": {},
   "outputs": [],
   "source": [
    "table = soup.find_all(\"div\", class_=\"district tabcont\")"
   ]
  },
  {
   "cell_type": "code",
   "execution_count": 386,
   "metadata": {},
   "outputs": [],
   "source": [
    "pattern_gu = r\"[가-힣]+\\s*구\"\n",
    "pattern_dong = r\"[가-힣|0-9]+[동|가]\"\n",
    "\n",
    "def get_gu(data):\n",
    "    global pattern_gu\n",
    "    data = str(data.find(\"h5\"))\n",
    "    data = re.findall(pattern_gu, data)\n",
    "    if len(data) != 1:\n",
    "        return\n",
    "    return data[0]\n",
    "\n",
    "def get_dongs(data):\n",
    "    global pattern_dong\n",
    "    rst = list()\n",
    "    data = data.find_all(\"td\")\n",
    "    for line in data:\n",
    "        rst += re.findall(pattern_dong, str(line))\n",
    "    return rst"
   ]
  },
  {
   "cell_type": "code",
   "execution_count": 387,
   "metadata": {},
   "outputs": [],
   "source": [
    "results = dict()\n",
    "for data in table:\n",
    "    ext_gu = get_gu(data)\n",
    "    if not ext_gu:\n",
    "        continue\n",
    "    tmp_dongs = list()\n",
    "    ext_dongs = get_dongs(data)    \n",
    "    if ext_dongs:\n",
    "        tmp_dongs += ext_dongs\n",
    "    results[ext_gu] = tmp_dongs"
   ]
  },
  {
   "cell_type": "code",
   "execution_count": 388,
   "metadata": {},
   "outputs": [],
   "source": [
    "results[\"중구\"] = results[\"중 구\"]\n",
    "del results[\"중 구\"]"
   ]
  },
  {
   "cell_type": "code",
   "execution_count": 389,
   "metadata": {},
   "outputs": [],
   "source": [
    "import json\n",
    "\n",
    "# 1차 저장\n",
    "with open(\"dataset/map_gu_dong.json\", \"w\", encoding=\"utf-8\") as f:\n",
    "    json.dump(results, f, ensure_ascii=False, indent=4)\n"
   ]
  },
  {
   "cell_type": "markdown",
   "metadata": {},
   "source": [
    "# match Gu-Dong in train, testset"
   ]
  },
  {
   "cell_type": "markdown",
   "metadata": {},
   "source": [
    "## check match error cases and fix"
   ]
  },
  {
   "cell_type": "code",
   "execution_count": 390,
   "metadata": {},
   "outputs": [],
   "source": [
    "import json\n",
    "import pandas as pd"
   ]
  },
  {
   "cell_type": "code",
   "execution_count": 391,
   "metadata": {},
   "outputs": [],
   "source": [
    "# load map\n",
    "path_map = \"dataset/map_gu_dong.json\"\n",
    "with open(path_map, \"r\", encoding=\"utf-8\") as f:\n",
    "    map = json.load(f)"
   ]
  },
  {
   "cell_type": "code",
   "execution_count": 392,
   "metadata": {},
   "outputs": [],
   "source": [
    "match_dong = dict()\n",
    "for gu in map:\n",
    "    for dong in map[gu]:\n",
    "        match_dong[dong] = gu"
   ]
  },
  {
   "cell_type": "code",
   "execution_count": 393,
   "metadata": {},
   "outputs": [
    {
     "name": "stdout",
     "output_type": "stream",
     "text": [
      "798\n"
     ]
    },
    {
     "data": {
      "text/plain": [
       "'동작구'"
      ]
     },
     "execution_count": 393,
     "metadata": {},
     "output_type": "execute_result"
    }
   ],
   "source": [
    "print(len(match_dong))\n",
    "match_dong[\"사당5동\"]"
   ]
  },
  {
   "cell_type": "code",
   "execution_count": 394,
   "metadata": {},
   "outputs": [],
   "source": [
    "# load dataset\n",
    "path_train = \"dataset/train.csv\"\n",
    "path_test = \"dataset/test.csv\""
   ]
  },
  {
   "cell_type": "code",
   "execution_count": 395,
   "metadata": {},
   "outputs": [
    {
     "name": "stdout",
     "output_type": "stream",
     "text": [
      "(742285, 13)\n"
     ]
    },
    {
     "data": {
      "text/html": [
       "<div>\n",
       "<style scoped>\n",
       "    .dataframe tbody tr th:only-of-type {\n",
       "        vertical-align: middle;\n",
       "    }\n",
       "\n",
       "    .dataframe tbody tr th {\n",
       "        vertical-align: top;\n",
       "    }\n",
       "\n",
       "    .dataframe thead th {\n",
       "        text-align: right;\n",
       "    }\n",
       "</style>\n",
       "<table border=\"1\" class=\"dataframe\">\n",
       "  <thead>\n",
       "    <tr style=\"text-align: right;\">\n",
       "      <th></th>\n",
       "      <th>transaction_id</th>\n",
       "      <th>apartment_id</th>\n",
       "      <th>city</th>\n",
       "      <th>dong</th>\n",
       "      <th>jibun</th>\n",
       "      <th>apt</th>\n",
       "      <th>addr_kr</th>\n",
       "      <th>exclusive_use_area</th>\n",
       "      <th>year_of_completion</th>\n",
       "      <th>transaction_year_month</th>\n",
       "      <th>transaction_date</th>\n",
       "      <th>floor</th>\n",
       "      <th>transaction_real_price</th>\n",
       "    </tr>\n",
       "  </thead>\n",
       "  <tbody>\n",
       "    <tr>\n",
       "      <th>1184017</th>\n",
       "      <td>1196848</td>\n",
       "      <td>680</td>\n",
       "      <td>서울특별시</td>\n",
       "      <td>강일동</td>\n",
       "      <td>665</td>\n",
       "      <td>강일리버파크1단지</td>\n",
       "      <td>강일동 665 강일리버파크1단지</td>\n",
       "      <td>84.74</td>\n",
       "      <td>2009</td>\n",
       "      <td>201711</td>\n",
       "      <td>21~30</td>\n",
       "      <td>9</td>\n",
       "      <td>55500</td>\n",
       "    </tr>\n",
       "    <tr>\n",
       "      <th>1184018</th>\n",
       "      <td>1196849</td>\n",
       "      <td>996</td>\n",
       "      <td>서울특별시</td>\n",
       "      <td>강일동</td>\n",
       "      <td>717</td>\n",
       "      <td>고덕리엔파크2단지</td>\n",
       "      <td>강일동 717 고덕리엔파크2단지</td>\n",
       "      <td>84.98</td>\n",
       "      <td>2011</td>\n",
       "      <td>201711</td>\n",
       "      <td>21~30</td>\n",
       "      <td>8</td>\n",
       "      <td>63750</td>\n",
       "    </tr>\n",
       "  </tbody>\n",
       "</table>\n",
       "</div>"
      ],
      "text/plain": [
       "         transaction_id  apartment_id   city dong jibun        apt  \\\n",
       "1184017         1196848           680  서울특별시  강일동   665  강일리버파크1단지   \n",
       "1184018         1196849           996  서울특별시  강일동   717  고덕리엔파크2단지   \n",
       "\n",
       "                   addr_kr  exclusive_use_area  year_of_completion  \\\n",
       "1184017  강일동 665 강일리버파크1단지               84.74                2009   \n",
       "1184018  강일동 717 고덕리엔파크2단지               84.98                2011   \n",
       "\n",
       "         transaction_year_month transaction_date  floor  \\\n",
       "1184017                  201711            21~30      9   \n",
       "1184018                  201711            21~30      8   \n",
       "\n",
       "         transaction_real_price  \n",
       "1184017                   55500  \n",
       "1184018                   63750  "
      ]
     },
     "execution_count": 395,
     "metadata": {},
     "output_type": "execute_result"
    }
   ],
   "source": [
    "df = pd.read_csv(path_train)\n",
    "df = df.loc[df[\"city\"] == \"서울특별시\"] # get in Seoul cases\n",
    "print(df.shape)\n",
    "df.tail(2)"
   ]
  },
  {
   "cell_type": "code",
   "execution_count": 396,
   "metadata": {},
   "outputs": [
    {
     "name": "stdout",
     "output_type": "stream",
     "text": [
      "2\n",
      "{'신문로1가', '인현동2가'}\n"
     ]
    }
   ],
   "source": [
    "errors = list()\n",
    "dongs = df[\"dong\"]\n",
    "for dong in dongs:\n",
    "    if dong not in match_dong:\n",
    "        errors.append(dong)\n",
    "print(len(set(errors))) # 2개 케이스에 대해서는 구 매치 데이터가 없음 -> manually add\n",
    "print(set(errors))"
   ]
  },
  {
   "cell_type": "code",
   "execution_count": 397,
   "metadata": {},
   "outputs": [],
   "source": [
    "# fix & save\n",
    "map[\"중구\"].append(\"인현동2가\")\n",
    "map[\"종로구\"].append(\"신문로1가\")"
   ]
  },
  {
   "cell_type": "code",
   "execution_count": 400,
   "metadata": {},
   "outputs": [],
   "source": [
    "with open(\"dataset/map_gu_dong.json\", \"w\", encoding=\"utf-8\") as f:\n",
    "    json.dump(map, f, ensure_ascii=False, indent=4) # gu-dong map file에 저장"
   ]
  },
  {
   "cell_type": "code",
   "execution_count": 401,
   "metadata": {},
   "outputs": [],
   "source": [
    "match_dong[\"인현동2가\"] = \"중구\" # 직접 확인 후 데이터에 추가\n",
    "match_dong[\"신문로1가\"] = \"종로구\""
   ]
  },
  {
   "cell_type": "code",
   "execution_count": 402,
   "metadata": {},
   "outputs": [
    {
     "name": "stdout",
     "output_type": "stream",
     "text": [
      "(3911, 12)\n"
     ]
    },
    {
     "data": {
      "text/html": [
       "<div>\n",
       "<style scoped>\n",
       "    .dataframe tbody tr th:only-of-type {\n",
       "        vertical-align: middle;\n",
       "    }\n",
       "\n",
       "    .dataframe tbody tr th {\n",
       "        vertical-align: top;\n",
       "    }\n",
       "\n",
       "    .dataframe thead th {\n",
       "        text-align: right;\n",
       "    }\n",
       "</style>\n",
       "<table border=\"1\" class=\"dataframe\">\n",
       "  <thead>\n",
       "    <tr style=\"text-align: right;\">\n",
       "      <th></th>\n",
       "      <th>transaction_id</th>\n",
       "      <th>apartment_id</th>\n",
       "      <th>city</th>\n",
       "      <th>dong</th>\n",
       "      <th>jibun</th>\n",
       "      <th>apt</th>\n",
       "      <th>addr_kr</th>\n",
       "      <th>exclusive_use_area</th>\n",
       "      <th>year_of_completion</th>\n",
       "      <th>transaction_year_month</th>\n",
       "      <th>transaction_date</th>\n",
       "      <th>floor</th>\n",
       "    </tr>\n",
       "  </thead>\n",
       "  <tbody>\n",
       "    <tr>\n",
       "      <th>5460</th>\n",
       "      <td>1157024</td>\n",
       "      <td>5550</td>\n",
       "      <td>서울특별시</td>\n",
       "      <td>구로동</td>\n",
       "      <td>256-1</td>\n",
       "      <td>삼성래미안</td>\n",
       "      <td>구로동 256-1 삼성래미안</td>\n",
       "      <td>110.188</td>\n",
       "      <td>2004</td>\n",
       "      <td>201712</td>\n",
       "      <td>21~31</td>\n",
       "      <td>23</td>\n",
       "    </tr>\n",
       "    <tr>\n",
       "      <th>5461</th>\n",
       "      <td>1136863</td>\n",
       "      <td>3371</td>\n",
       "      <td>서울특별시</td>\n",
       "      <td>홍제동</td>\n",
       "      <td>24-16</td>\n",
       "      <td>동양드림</td>\n",
       "      <td>홍제동 24-16 동양드림</td>\n",
       "      <td>92.440</td>\n",
       "      <td>2005</td>\n",
       "      <td>201710</td>\n",
       "      <td>21~31</td>\n",
       "      <td>1</td>\n",
       "    </tr>\n",
       "  </tbody>\n",
       "</table>\n",
       "</div>"
      ],
      "text/plain": [
       "      transaction_id  apartment_id   city dong  jibun    apt          addr_kr  \\\n",
       "5460         1157024          5550  서울특별시  구로동  256-1  삼성래미안  구로동 256-1 삼성래미안   \n",
       "5461         1136863          3371  서울특별시  홍제동  24-16   동양드림   홍제동 24-16 동양드림   \n",
       "\n",
       "      exclusive_use_area  year_of_completion  transaction_year_month  \\\n",
       "5460             110.188                2004                  201712   \n",
       "5461              92.440                2005                  201710   \n",
       "\n",
       "     transaction_date  floor  \n",
       "5460            21~31     23  \n",
       "5461            21~31      1  "
      ]
     },
     "execution_count": 402,
     "metadata": {},
     "output_type": "execute_result"
    }
   ],
   "source": [
    "df = pd.read_csv(path_test)\n",
    "df = df.loc[df[\"city\"] == \"서울특별시\"] # get in Seoul cases\n",
    "print(df.shape)\n",
    "df.tail(2)"
   ]
  },
  {
   "cell_type": "code",
   "execution_count": 403,
   "metadata": {},
   "outputs": [
    {
     "name": "stdout",
     "output_type": "stream",
     "text": [
      "0\n",
      "set()\n"
     ]
    }
   ],
   "source": [
    "errors = list()\n",
    "dongs = df[\"dong\"]\n",
    "for dong in dongs:\n",
    "    if dong not in match_dong:\n",
    "        errors.append(dong)\n",
    "print(len(set(errors))) # testset에서는 매치 안되는 동 없음\n",
    "print(set(errors))"
   ]
  },
  {
   "cell_type": "markdown",
   "metadata": {},
   "source": [
    "## join table & save seoul cases"
   ]
  },
  {
   "cell_type": "code",
   "execution_count": 404,
   "metadata": {},
   "outputs": [],
   "source": [
    "import json\n",
    "import pandas as pd"
   ]
  },
  {
   "cell_type": "code",
   "execution_count": 405,
   "metadata": {},
   "outputs": [],
   "source": [
    "# load map\n",
    "path_map = \"dataset/map_gu_dong.json\"\n",
    "with open(path_map, \"r\", encoding=\"utf-8\") as f:\n",
    "    map = json.load(f)"
   ]
  },
  {
   "cell_type": "code",
   "execution_count": 406,
   "metadata": {},
   "outputs": [],
   "source": [
    "match_dong = dict()\n",
    "for gu in map:\n",
    "    for dong in map[gu]:\n",
    "        match_dong[dong] = gu"
   ]
  },
  {
   "cell_type": "code",
   "execution_count": 407,
   "metadata": {},
   "outputs": [],
   "source": [
    "# load dataset\n",
    "path_train = \"dataset/train.csv\"\n",
    "path_test = \"dataset/test.csv\""
   ]
  },
  {
   "cell_type": "code",
   "execution_count": 410,
   "metadata": {},
   "outputs": [
    {
     "name": "stdout",
     "output_type": "stream",
     "text": [
      "(742285, 13)\n"
     ]
    },
    {
     "data": {
      "text/html": [
       "<div>\n",
       "<style scoped>\n",
       "    .dataframe tbody tr th:only-of-type {\n",
       "        vertical-align: middle;\n",
       "    }\n",
       "\n",
       "    .dataframe tbody tr th {\n",
       "        vertical-align: top;\n",
       "    }\n",
       "\n",
       "    .dataframe thead th {\n",
       "        text-align: right;\n",
       "    }\n",
       "</style>\n",
       "<table border=\"1\" class=\"dataframe\">\n",
       "  <thead>\n",
       "    <tr style=\"text-align: right;\">\n",
       "      <th></th>\n",
       "      <th>transaction_id</th>\n",
       "      <th>apartment_id</th>\n",
       "      <th>city</th>\n",
       "      <th>dong</th>\n",
       "      <th>jibun</th>\n",
       "      <th>apt</th>\n",
       "      <th>addr_kr</th>\n",
       "      <th>exclusive_use_area</th>\n",
       "      <th>year_of_completion</th>\n",
       "      <th>transaction_year_month</th>\n",
       "      <th>transaction_date</th>\n",
       "      <th>floor</th>\n",
       "      <th>transaction_real_price</th>\n",
       "    </tr>\n",
       "  </thead>\n",
       "  <tbody>\n",
       "    <tr>\n",
       "      <th>1184017</th>\n",
       "      <td>1196848</td>\n",
       "      <td>680</td>\n",
       "      <td>서울특별시</td>\n",
       "      <td>강일동</td>\n",
       "      <td>665</td>\n",
       "      <td>강일리버파크1단지</td>\n",
       "      <td>강일동 665 강일리버파크1단지</td>\n",
       "      <td>84.74</td>\n",
       "      <td>2009</td>\n",
       "      <td>201711</td>\n",
       "      <td>21~30</td>\n",
       "      <td>9</td>\n",
       "      <td>55500</td>\n",
       "    </tr>\n",
       "    <tr>\n",
       "      <th>1184018</th>\n",
       "      <td>1196849</td>\n",
       "      <td>996</td>\n",
       "      <td>서울특별시</td>\n",
       "      <td>강일동</td>\n",
       "      <td>717</td>\n",
       "      <td>고덕리엔파크2단지</td>\n",
       "      <td>강일동 717 고덕리엔파크2단지</td>\n",
       "      <td>84.98</td>\n",
       "      <td>2011</td>\n",
       "      <td>201711</td>\n",
       "      <td>21~30</td>\n",
       "      <td>8</td>\n",
       "      <td>63750</td>\n",
       "    </tr>\n",
       "  </tbody>\n",
       "</table>\n",
       "</div>"
      ],
      "text/plain": [
       "         transaction_id  apartment_id   city dong jibun        apt  \\\n",
       "1184017         1196848           680  서울특별시  강일동   665  강일리버파크1단지   \n",
       "1184018         1196849           996  서울특별시  강일동   717  고덕리엔파크2단지   \n",
       "\n",
       "                   addr_kr  exclusive_use_area  year_of_completion  \\\n",
       "1184017  강일동 665 강일리버파크1단지               84.74                2009   \n",
       "1184018  강일동 717 고덕리엔파크2단지               84.98                2011   \n",
       "\n",
       "         transaction_year_month transaction_date  floor  \\\n",
       "1184017                  201711            21~30      9   \n",
       "1184018                  201711            21~30      8   \n",
       "\n",
       "         transaction_real_price  \n",
       "1184017                   55500  \n",
       "1184018                   63750  "
      ]
     },
     "execution_count": 410,
     "metadata": {},
     "output_type": "execute_result"
    }
   ],
   "source": [
    "df_train = pd.read_csv(path_train)\n",
    "df_train = df_train.loc[df_train[\"city\"] == \"서울특별시\"] # get in Seoul cases\n",
    "print(df_train.shape)\n",
    "df_train.tail(2)"
   ]
  },
  {
   "cell_type": "code",
   "execution_count": 412,
   "metadata": {},
   "outputs": [],
   "source": [
    "df_train[\"gu\"] = df_train[\"dong\"].map(match_dong) # {dong: gu} match dict"
   ]
  },
  {
   "cell_type": "code",
   "execution_count": 413,
   "metadata": {},
   "outputs": [
    {
     "name": "stdout",
     "output_type": "stream",
     "text": [
      "(3911, 12)\n"
     ]
    }
   ],
   "source": [
    "df_test = pd.read_csv(path_test)\n",
    "df_test = df_test.loc[df_test[\"city\"] == \"서울특별시\"]\n",
    "print(df_test.shape)"
   ]
  },
  {
   "cell_type": "code",
   "execution_count": 414,
   "metadata": {},
   "outputs": [],
   "source": [
    "df_test[\"gu\"] = df_test[\"dong\"].map(match_dong) # {dong: gu} match dict"
   ]
  },
  {
   "cell_type": "code",
   "execution_count": 415,
   "metadata": {},
   "outputs": [],
   "source": [
    "df_train.to_csv(\"dataset/train_seoul.csv\", index=False)"
   ]
  },
  {
   "cell_type": "code",
   "execution_count": 416,
   "metadata": {},
   "outputs": [],
   "source": [
    "df_test.to_csv(\"dataset/test_seoul.csv\", index=False)"
   ]
  },
  {
   "cell_type": "markdown",
   "metadata": {},
   "source": [
    "# park\n",
    "- 기존 park.csv 데이터에는 마포구, 성북구가 없음\n",
    "- 서울시 주요 공원: https://parks.seoul.go.kr/story/data/detailView.do?searchTp=&searchWd=&currentPage=1&bIdx=514\n",
    "  - 1편2.구별현황 1.공원종류별 현황 tab\n",
    "  - \"dataset/park_seoul.csv\""
   ]
  },
  {
   "cell_type": "code",
   "execution_count": 329,
   "metadata": {},
   "outputs": [],
   "source": [
    "import pandas as pd\n",
    "import json"
   ]
  },
  {
   "cell_type": "code",
   "execution_count": 422,
   "metadata": {},
   "outputs": [],
   "source": [
    "df = pd.read_csv(\"dataset/park_seoul_raw.csv\", names=[\"gu\", \"num\"])"
   ]
  },
  {
   "cell_type": "code",
   "execution_count": 423,
   "metadata": {},
   "outputs": [],
   "source": [
    "dic_park = dict()\n",
    "for idx in range(len(df)):\n",
    "    data = df.iloc[idx]\n",
    "    gu, num = data[\"gu\"], data[\"num\"]\n",
    "    dic_park[gu] = int(num)"
   ]
  },
  {
   "cell_type": "code",
   "execution_count": 427,
   "metadata": {},
   "outputs": [
    {
     "name": "stdout",
     "output_type": "stream",
     "text": [
      "{' 종로구 ': 106, ' 중  구 ': 72, ' 용산구 ': 107, ' 성동구 ': 100, ' 광진구 ': 68, ' 동대문 ': 92, ' 중랑구 ': 113, ' 성북구 ': 122, ' 강북구 ': 87, ' 도봉구 ': 80, ' 노원구 ': 187, ' 은평구 ': 136, ' 서대문 ': 123, ' 마포구 ': 144, ' 양천구 ': 123, ' 강서구 ': 173, ' 구로구 ': 114, ' 금천구 ': 55, ' 영등포 ': 108, ' 동작구 ': 86, ' 관악구 ': 135, ' 서초구 ': 179, ' 강남구 ': 165, ' 송파구 ': 174, ' 강동구 ': 129}\n"
     ]
    }
   ],
   "source": [
    "print(dic_park) # 동대문, 서대문, 영등포 뒤에 \"구\" 추가, 모든 구 이름에서 띄어쓰기 제거, 중 구 -> 중구"
   ]
  },
  {
   "cell_type": "code",
   "execution_count": 436,
   "metadata": {},
   "outputs": [],
   "source": [
    "target = {\"영등포\", \"서대문\", \"동대문\"}\n",
    "dic_park = dict()\n",
    "for idx in range(len(df)):\n",
    "    data = df.iloc[idx]\n",
    "    gu, num = data[\"gu\"], data[\"num\"]\n",
    "    gu = re.sub(r\"\\s+\", \"\", gu) # 텍스트 내 모든 space 제거\n",
    "    if gu in target:\n",
    "        gu += \"구\"\n",
    "    dic_park[gu] = num.item()"
   ]
  },
  {
   "cell_type": "code",
   "execution_count": 438,
   "metadata": {},
   "outputs": [
    {
     "name": "stdout",
     "output_type": "stream",
     "text": [
      "{'종로구': 106, '중구': 72, '용산구': 107, '성동구': 100, '광진구': 68, '동대문구': 92, '중랑구': 113, '성북구': 122, '강북구': 87, '도봉구': 80, '노원구': 187, '은평구': 136, '서대문구': 123, '마포구': 144, '양천구': 123, '강서구': 173, '구로구': 114, '금천구': 55, '영등포구': 108, '동작구': 86, '관악구': 135, '서초구': 179, '강남구': 165, '송파구': 174, '강동구': 129}\n"
     ]
    }
   ],
   "source": [
    "print(dic_park)"
   ]
  },
  {
   "cell_type": "code",
   "execution_count": 439,
   "metadata": {},
   "outputs": [],
   "source": [
    "with open(\"dataset/park_seoul.json\", \"w\", encoding=\"utf-8\") as f:\n",
    "    json.dump(dic_park, f, ensure_ascii=False, indent=4)"
   ]
  },
  {
   "cell_type": "markdown",
   "metadata": {},
   "source": [
    "# daycare\n",
    "- 기존 daycare 데이터는 서울 21개구만 존재\n",
    "- https://data.seoul.go.kr/dataList/OA-15457/S/1/datasetView.do\n",
    "- 2023년 daycare center"
   ]
  },
  {
   "cell_type": "code",
   "execution_count": null,
   "metadata": {},
   "outputs": [],
   "source": [
    "import pandas as pd"
   ]
  },
  {
   "cell_type": "code",
   "execution_count": 464,
   "metadata": {},
   "outputs": [],
   "source": [
    "df = pd.read_csv(\"/home/jonas/github_wsl/apart/dataset/daycare_seoul_raw.csv\")"
   ]
  },
  {
   "cell_type": "code",
   "execution_count": 466,
   "metadata": {},
   "outputs": [],
   "source": [
    "dic_daycare = dict()\n",
    "for idx in range(len(df)):\n",
    "    data = df.iloc[idx]\n",
    "    gu, num = data[\"자치구명\"], data[\"시설수합계\"]\n",
    "    if gu != \"중구\":\n",
    "        gu += \"구\"\n",
    "    dic_daycare[gu] = num.item()"
   ]
  },
  {
   "cell_type": "code",
   "execution_count": 469,
   "metadata": {},
   "outputs": [],
   "source": [
    "with open(\"dataset/daycare_seoul.json\", \"w\", encoding=\"utf-8\") as f:\n",
    "    json.dump(dic_daycare, f, ensure_ascii=False, indent=4)"
   ]
  },
  {
   "cell_type": "markdown",
   "metadata": {},
   "source": [
    "# join tables\n",
    "- train, test 데이터에 구 를 key로 공원, 보육시설 통합"
   ]
  },
  {
   "cell_type": "code",
   "execution_count": 470,
   "metadata": {},
   "outputs": [],
   "source": [
    "# load dataset\n",
    "path_train = \"dataset/train_seoul.csv\"\n",
    "path_test = \"dataset/test_seoul.csv\"\n",
    "path_park = \"dataset/park_seoul.json\"\n",
    "path_daycare = \"dataset/daycare_seoul.json\""
   ]
  },
  {
   "cell_type": "code",
   "execution_count": 477,
   "metadata": {},
   "outputs": [
    {
     "name": "stdout",
     "output_type": "stream",
     "text": [
      "(742285, 16)\n",
      "(3911, 15)\n"
     ]
    }
   ],
   "source": [
    "df_train = pd.read_csv(path_train)\n",
    "df_test = pd.read_csv(path_test)\n",
    "print(df_train.shape)\n",
    "print(df_test.shape)"
   ]
  },
  {
   "cell_type": "code",
   "execution_count": 478,
   "metadata": {},
   "outputs": [],
   "source": [
    "with open(path_park) as f:\n",
    "    map_park = json.load(f)\n",
    "    \n",
    "with open(path_daycare) as f:\n",
    "    map_daycare = json.load(f)"
   ]
  },
  {
   "cell_type": "code",
   "execution_count": 479,
   "metadata": {},
   "outputs": [],
   "source": [
    "df_train[\"park\"] = df_train[\"gu\"].map(map_park)\n",
    "df_test[\"park\"] = df_test[\"gu\"].map(map_park)\n",
    "df_train[\"daycare\"] = df_train[\"gu\"].map(map_daycare)\n",
    "df_test[\"daycare\"] = df_test[\"gu\"].map(map_daycare)"
   ]
  },
  {
   "cell_type": "code",
   "execution_count": 480,
   "metadata": {},
   "outputs": [],
   "source": [
    "df_train.to_csv(path_train, index=False)\n",
    "df_test.to_csv(path_test, index=False)"
   ]
  },
  {
   "cell_type": "code",
   "execution_count": null,
   "metadata": {},
   "outputs": [],
   "source": []
  }
 ],
 "metadata": {
  "kernelspec": {
   "display_name": "ds",
   "language": "python",
   "name": "python3"
  },
  "language_info": {
   "codemirror_mode": {
    "name": "ipython",
    "version": 3
   },
   "file_extension": ".py",
   "mimetype": "text/x-python",
   "name": "python",
   "nbconvert_exporter": "python",
   "pygments_lexer": "ipython3",
   "version": "3.12.4"
  }
 },
 "nbformat": 4,
 "nbformat_minor": 2
}
